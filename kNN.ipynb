{
 "cells": [
  {
   "cell_type": "code",
   "execution_count": 1,
   "metadata": {},
   "outputs": [],
   "source": [
    "from sklearn.neighbors import KNeighborsClassifier\n",
    "from sklearn.model_selection import GridSearchCV\n",
    "from sklearn.model_selection import train_test_split\n",
    "import numpy as np\n",
    "import pandas as pd"
   ]
  },
  {
   "cell_type": "code",
   "execution_count": 2,
   "metadata": {},
   "outputs": [],
   "source": [
    "def one_hot(train, test):\n",
    "    len_train = train.shape[0]\n",
    "    out = pd.DataFrame(np.concatenate((test, train), axis = 0))\n",
    "    one_hot = pd.get_dummies(out, columns=[0])\n",
    "    train_one_hot = one_hot.iloc[:len_train]\n",
    "    test_one_hot = one_hot.iloc[len_train:]\n",
    "    return np.array(train_one_hot), np.array(test_one_hot)"
   ]
  },
  {
   "cell_type": "code",
   "execution_count": 8,
   "metadata": {},
   "outputs": [],
   "source": [
    "def import_data(file_name, test_split, separator, bool_front, bool_one_hot_X):\n",
    "    data = pd.read_csv(file_name, sep = separator)\n",
    "    X_Y_train_val, X_Y_test = train_test_split(data, test_size=test_split)\n",
    "    if bool_front == True:\n",
    "        X_train_val = X_Y_train_val.iloc[:, :-1]\n",
    "        Y_train_val = X_Y_train_val.iloc[:,-1]\n",
    "        X_test = X_Y_test.iloc[:, :-1]\n",
    "        Y_test = X_Y_test.iloc[:,-1]\n",
    "    else:\n",
    "        X_train_val = X_Y_train_val.iloc[:, 0:]\n",
    "        Y_train_val = X_Y_train_val.iloc[:,0]\n",
    "        X_test = X_Y_test.iloc[:, 0:]\n",
    "        Y_test = X_Y_test.iloc[:,0]\n",
    "    if bool_one_hot_X == True:\n",
    "        X_train_val, X_test = one_hot(X_train_val, X_test)\n",
    "    else:\n",
    "        X_train_val = np.array(X_train_val)\n",
    "        X_test = np.array(X_test) \n",
    "    Y_train_val = np.array(Y_train_val)\n",
    "    Y_test = np.array(Y_test)\n",
    "    return X_train_val, Y_train_val, X_test, Y_test"
   ]
  },
  {
   "cell_type": "code",
   "execution_count": 9,
   "metadata": {},
   "outputs": [
    {
     "name": "stdout",
     "output_type": "stream",
     "text": [
      "{'n_neighbors': 1}\n",
      "0.59375\n"
     ]
    }
   ],
   "source": [
    "X_train_val, Y_train_val, X_test, Y_test = import_data('winequality-red.csv', 0.2, \";\", True, False)\n",
    "\n",
    "k_range = np.linspace(1, X_train_val.shape[0]/2, num = 26, dtype = int)\n",
    "parameters = {'n_neighbors' : k_range}\n",
    "\n",
    "clf = GridSearchCV(KNeighborsClassifier(algorithm = 'brute'), parameters, n_jobs=4, cv = 5)\n",
    "clf.fit(X_train_val, Y_train_val)\n",
    "print(clf.best_params_)\n",
    "print(clf.score(X_test, Y_test))"
   ]
  },
  {
   "cell_type": "code",
   "execution_count": 10,
   "metadata": {},
   "outputs": [
    {
     "name": "stderr",
     "output_type": "stream",
     "text": [
      "/home/debbie/anaconda3/envs/tensorflow/lib/python3.6/site-packages/sklearn/model_selection/_split.py:605: Warning: The least populated class in y has only 1 members, which is too few. The minimum number of members in any class cannot be less than n_splits=5.\n",
      "  % (min_groups, self.n_splits)), Warning)\n"
     ]
    },
    {
     "name": "stdout",
     "output_type": "stream",
     "text": [
      "{'n_neighbors': 1536}\n",
      "0.17703349282296652\n"
     ]
    }
   ],
   "source": [
    "X_train_val, Y_train_val, X_test, Y_test = import_data('abalone.data', 0.2, \",\", True, True)\n",
    "\n",
    "#24, 27, 29, 1, 2, 26, 25\n",
    "k_range = np.linspace(1, X_train_val.shape[0]/2, num = 26, dtype = int)\n",
    "parameters = {'n_neighbors' : k_range}\n",
    "\n",
    "clf = GridSearchCV(KNeighborsClassifier(algorithm = 'brute'), parameters, n_jobs = 4, cv = 5)\n",
    "clf.fit(X_train_val, Y_train_val)\n",
    "print(clf.best_params_)\n",
    "print(clf.score(X_test, Y_test))"
   ]
  },
  {
   "cell_type": "code",
   "execution_count": 1,
   "metadata": {},
   "outputs": [
    {
     "ename": "NameError",
     "evalue": "name 'import_data' is not defined",
     "output_type": "error",
     "traceback": [
      "\u001b[0;31m---------------------------------------------------------------------------\u001b[0m",
      "\u001b[0;31mNameError\u001b[0m                                 Traceback (most recent call last)",
      "\u001b[0;32m<ipython-input-1-db7cc090625f>\u001b[0m in \u001b[0;36m<module>\u001b[0;34m()\u001b[0m\n\u001b[0;32m----> 1\u001b[0;31m \u001b[0mX_train_val\u001b[0m\u001b[0;34m,\u001b[0m \u001b[0mY_train_val\u001b[0m\u001b[0;34m,\u001b[0m \u001b[0mX_test\u001b[0m\u001b[0;34m,\u001b[0m \u001b[0mY_test\u001b[0m \u001b[0;34m=\u001b[0m \u001b[0mimport_data\u001b[0m\u001b[0;34m(\u001b[0m\u001b[0;34m'new_SUSY.csv'\u001b[0m\u001b[0;34m,\u001b[0m \u001b[0;36m0.2\u001b[0m\u001b[0;34m,\u001b[0m \u001b[0;34m\",\"\u001b[0m\u001b[0;34m,\u001b[0m \u001b[0;32mFalse\u001b[0m\u001b[0;34m,\u001b[0m \u001b[0;32mFalse\u001b[0m\u001b[0;34m)\u001b[0m\u001b[0;34m\u001b[0m\u001b[0m\n\u001b[0m\u001b[1;32m      2\u001b[0m \u001b[0mY_train_val\u001b[0m\u001b[0;34m.\u001b[0m\u001b[0mastype\u001b[0m\u001b[0;34m(\u001b[0m\u001b[0mint\u001b[0m\u001b[0;34m)\u001b[0m\u001b[0;34m\u001b[0m\u001b[0m\n\u001b[1;32m      3\u001b[0m \u001b[0mY_test\u001b[0m\u001b[0;34m.\u001b[0m\u001b[0mastype\u001b[0m\u001b[0;34m(\u001b[0m\u001b[0mint\u001b[0m\u001b[0;34m)\u001b[0m\u001b[0;34m\u001b[0m\u001b[0m\n\u001b[1;32m      4\u001b[0m \u001b[0mk_range\u001b[0m \u001b[0;34m=\u001b[0m \u001b[0mnp\u001b[0m\u001b[0;34m.\u001b[0m\u001b[0mlinspace\u001b[0m\u001b[0;34m(\u001b[0m\u001b[0;36m1\u001b[0m\u001b[0;34m,\u001b[0m \u001b[0mX_train_val\u001b[0m\u001b[0;34m.\u001b[0m\u001b[0mshape\u001b[0m\u001b[0;34m[\u001b[0m\u001b[0;36m0\u001b[0m\u001b[0;34m]\u001b[0m\u001b[0;34m/\u001b[0m\u001b[0;36m2\u001b[0m\u001b[0;34m,\u001b[0m \u001b[0mnum\u001b[0m \u001b[0;34m=\u001b[0m \u001b[0;36m26\u001b[0m\u001b[0;34m,\u001b[0m \u001b[0mdtype\u001b[0m \u001b[0;34m=\u001b[0m \u001b[0mint\u001b[0m\u001b[0;34m)\u001b[0m\u001b[0;34m\u001b[0m\u001b[0m\n\u001b[1;32m      5\u001b[0m \u001b[0mparameters\u001b[0m \u001b[0;34m=\u001b[0m \u001b[0;34m{\u001b[0m\u001b[0;34m'n_neighbors'\u001b[0m \u001b[0;34m:\u001b[0m \u001b[0mk_range\u001b[0m\u001b[0;34m}\u001b[0m\u001b[0;34m\u001b[0m\u001b[0m\n",
      "\u001b[0;31mNameError\u001b[0m: name 'import_data' is not defined"
     ]
    }
   ],
   "source": [
    "X_train_val, Y_train_val, X_test, Y_test = import_data('new_SUSY.csv', 0.2, \",\", False, False)\n",
    "Y_train_val.astype(int)\n",
    "Y_test.astype(int)\n",
    "k_range = np.linspace(1, X_train_val.shape[0]/2, num = 26, dtype = int)\n",
    "parameters = {'n_neighbors' : k_range}\n",
    "\n",
    "clf = GridSearchCV(KNeighborsClassifier(algorithm = 'brute'), parameters, n_jobs = 4, cv = 5)\n",
    "clf.fit(X_train_val, Y_train_val)\n",
    "print(clf.best_params_)\n",
    "print(clf.score(X_test, Y_test))"
   ]
  },
  {
   "cell_type": "code",
   "execution_count": null,
   "metadata": {},
   "outputs": [],
   "source": []
  }
 ],
 "metadata": {
  "kernelspec": {
   "display_name": "Python 3",
   "language": "python",
   "name": "python3"
  },
  "language_info": {
   "codemirror_mode": {
    "name": "ipython",
    "version": 3
   },
   "file_extension": ".py",
   "mimetype": "text/x-python",
   "name": "python",
   "nbconvert_exporter": "python",
   "pygments_lexer": "ipython3",
   "version": "3.6.4"
  }
 },
 "nbformat": 4,
 "nbformat_minor": 2
}
