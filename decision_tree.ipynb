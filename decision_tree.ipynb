{
 "cells": [
  {
   "cell_type": "code",
   "execution_count": 1,
   "metadata": {},
   "outputs": [],
   "source": [
    "import pandas as pd\n",
    "import numpy as np\n",
    "from sklearn.model_selection import train_test_split\n",
    "from sklearn.metrics import accuracy_score\n",
    "from sklearn import tree\n",
    "from sklearn.externals.six import StringIO  \n",
    "from IPython.display import Image\n",
    "from sklearn.model_selection import GridSearchCV\n",
    "from sklearn.utils import shuffle\n",
    "from sklearn.ensemble import RandomForestClassifier\n",
    "import pydotplus"
   ]
  },
  {
   "cell_type": "code",
   "execution_count": 2,
   "metadata": {},
   "outputs": [],
   "source": [
    "def one_hot(train, test):\n",
    "    len_train = train.shape[0]\n",
    "    out = pd.DataFrame(np.concatenate((test, train), axis = 0))\n",
    "    one_hot = pd.get_dummies(out, columns=[0])\n",
    "    train_one_hot = one_hot.iloc[:len_train]\n",
    "    test_one_hot = one_hot.iloc[len_train:]\n",
    "    return np.array(train_one_hot), np.array(test_one_hot)"
   ]
  },
  {
   "cell_type": "code",
   "execution_count": 3,
   "metadata": {},
   "outputs": [],
   "source": [
    "def import_data(file_name, test_split, separator, bool_front, bool_one_hot_X):\n",
    "    data = pd.read_csv(file_name, sep = separator)\n",
    "    data = shuffle(data)\n",
    "    X_Y_train_val, X_Y_test = train_test_split(data, test_size=test_split)\n",
    "    if bool_front == True:\n",
    "        X_train_val = X_Y_train_val.iloc[:, :-1]\n",
    "        Y_train_val = X_Y_train_val.iloc[:,-1]\n",
    "        X_test = X_Y_test.iloc[:, :-1]\n",
    "        Y_test = X_Y_test.iloc[:,-1]\n",
    "    else:\n",
    "        X_train_val = X_Y_train_val.iloc[:, 0:]\n",
    "        Y_train_val = X_Y_train_val.iloc[:,0]\n",
    "        X_test = X_Y_test.iloc[:, 0:]\n",
    "        Y_test = X_Y_test.iloc[:,0]\n",
    "    if bool_one_hot_X == True:\n",
    "        X_train_val, X_test = one_hot(X_train_val, X_test)\n",
    "    else:\n",
    "        X_train_val = np.array(X_train_val)\n",
    "        X_test = np.array(X_test) \n",
    "    Y_train_val, Y_test = one_hot(Y_train_val, Y_test)\n",
    "    return X_train_val, Y_train_val, X_test, Y_test"
   ]
  },
  {
   "cell_type": "code",
   "execution_count": 4,
   "metadata": {},
   "outputs": [],
   "source": [
    "def create_tree(parameters, X_train_val, Y_train_val, X_test, Y_test):\n",
    "    clf = GridSearchCV(tree.DecisionTreeClassifier(), parameters, cv = 5, n_jobs = 4)\n",
    "    clf.fit(X_train_val, Y_train_val)\n",
    "    best_params = clf.best_params_\n",
    "    return clf.best_params_, clf.score(X_test, Y_test)"
   ]
  },
  {
   "cell_type": "code",
   "execution_count": 5,
   "metadata": {},
   "outputs": [],
   "source": [
    "def average_three(parameters, file_name, test_split, separator, bool_front, bool_one_hot_X):\n",
    "    ac_list = []\n",
    "    for i in range(3):\n",
    "        X_train_val, Y_train_val, X_test, Y_test = import_data(file_name, test_split, separator, bool_front, bool_one_hot_X)\n",
    "    #    best_params, ac = create_forest(parameters, X_train_val, Y_train_val, X_test, Y_test)\n",
    "        best_params, ac = create_tree(parameters, X_train_val, Y_train_val, X_test, Y_test)\n",
    "        ac_list.append(ac)\n",
    "    return np.mean(ac_list)"
   ]
  },
  {
   "cell_type": "code",
   "execution_count": 6,
   "metadata": {},
   "outputs": [
    {
     "data": {
      "text/plain": [
       "({'criterion': 'entropy',\n",
       "  'max_depth': 35,\n",
       "  'min_samples_leaf': 2,\n",
       "  'min_samples_split': 6},\n",
       " 0.346875)"
      ]
     },
     "execution_count": 6,
     "metadata": {},
     "output_type": "execute_result"
    }
   ],
   "source": [
    "X_train_val, Y_train_val, X_test, Y_test = import_data('winequality-red.csv', 0.2, \";\", True, False)\n",
    "\n",
    "parameters = {'criterion' : ('gini', 'entropy'), 'max_depth' : [25, 30, 35, 40, 45, 50, 55, 60], 'min_samples_leaf' : [2, 4, 6, 8, 10, 12, 14, 16], 'min_samples_split' : [6, 8, 10, 12, 14, 16, 32, 64]}\n",
    "\n",
    "#clf = GridSearchCV(tree.DecisionTreeClassifier(), parameters, cv = 5, n_jobs = 4)\n",
    "#clf.fit(X_train_val, Y_train_val)\n",
    "#best_params = clf.best_params_\n",
    "#print(clf.best_params_)\n",
    "#print(clf.score(X_test, Y_test))\n",
    "create_tree(parameters, X_train_val, Y_train_val, X_test, Y_test)"
   ]
  },
  {
   "cell_type": "code",
   "execution_count": 11,
   "metadata": {},
   "outputs": [
    {
     "data": {
      "text/plain": [
       "0.32708333333333334"
      ]
     },
     "execution_count": 11,
     "metadata": {},
     "output_type": "execute_result"
    }
   ],
   "source": [
    "parameters = {'criterion' : ('gini', 'entropy'), 'max_depth' : [25, 30, 35, 40, 45, 50, 55, 60], 'min_samples_leaf' : [2, 4, 6, 8, 10, 12, 14, 16], 'min_samples_split' : [6, 8, 10, 12, 14, 16, 32, 64]}\n",
    "average_three(parameters, 'winequality-red.csv', 0.2, \";\", True, False)"
   ]
  },
  {
   "cell_type": "code",
   "execution_count": 15,
   "metadata": {},
   "outputs": [
    {
     "data": {
      "text/plain": [
       "0.3129166666666667"
      ]
     },
     "execution_count": 15,
     "metadata": {},
     "output_type": "execute_result"
    }
   ],
   "source": [
    "parameters = {'criterion' : ('gini', 'entropy'), 'max_depth' : [25, 30, 35, 40, 45, 50, 55, 60], 'min_samples_leaf' : [2, 4, 6, 8, 10, 12, 14, 16], 'min_samples_split' : [6, 8, 10, 12, 14, 16, 32, 64]}\n",
    "average_three(parameters, 'winequality-red.csv', 0.5, \";\", True, False)"
   ]
  },
  {
   "cell_type": "code",
   "execution_count": 16,
   "metadata": {},
   "outputs": [
    {
     "data": {
      "text/plain": [
       "0.2877604166666667"
      ]
     },
     "execution_count": 16,
     "metadata": {},
     "output_type": "execute_result"
    }
   ],
   "source": [
    "parameters = {'criterion' : ('gini', 'entropy'), 'max_depth' : [25, 30, 35, 40, 45, 50, 55, 60], 'min_samples_leaf' : [2, 4, 6, 8, 10, 12, 14, 16], 'min_samples_split' : [6, 8, 10, 12, 14, 16, 32, 64]}\n",
    "average_three(parameters, 'winequality-red.csv', 0.8, \";\", True, False)"
   ]
  },
  {
   "cell_type": "code",
   "execution_count": 12,
   "metadata": {},
   "outputs": [
    {
     "ename": "NameError",
     "evalue": "name 'X_train_val' is not defined",
     "output_type": "error",
     "traceback": [
      "\u001b[0;31m---------------------------------------------------------------------------\u001b[0m",
      "\u001b[0;31mNameError\u001b[0m                                 Traceback (most recent call last)",
      "\u001b[0;32m<ipython-input-12-7fe73c8d52d1>\u001b[0m in \u001b[0;36m<module>\u001b[0;34m()\u001b[0m\n\u001b[1;32m      1\u001b[0m \u001b[0mclf_opt\u001b[0m \u001b[0;34m=\u001b[0m \u001b[0mtree\u001b[0m\u001b[0;34m.\u001b[0m\u001b[0mDecisionTreeClassifier\u001b[0m\u001b[0;34m(\u001b[0m\u001b[0mcriterion\u001b[0m \u001b[0;34m=\u001b[0m \u001b[0;34m'entropy'\u001b[0m\u001b[0;34m,\u001b[0m \u001b[0mmax_depth\u001b[0m \u001b[0;34m=\u001b[0m \u001b[0;36m25\u001b[0m\u001b[0;34m,\u001b[0m \u001b[0mmin_samples_leaf\u001b[0m \u001b[0;34m=\u001b[0m \u001b[0;36m2\u001b[0m\u001b[0;34m,\u001b[0m \u001b[0mmin_samples_split\u001b[0m \u001b[0;34m=\u001b[0m \u001b[0;36m6\u001b[0m\u001b[0;34m)\u001b[0m\u001b[0;34m\u001b[0m\u001b[0m\n\u001b[0;32m----> 2\u001b[0;31m \u001b[0mclf_opt\u001b[0m\u001b[0;34m.\u001b[0m\u001b[0mfit\u001b[0m\u001b[0;34m(\u001b[0m\u001b[0mX_train_val\u001b[0m\u001b[0;34m,\u001b[0m \u001b[0mY_train_val\u001b[0m\u001b[0;34m)\u001b[0m\u001b[0;34m\u001b[0m\u001b[0m\n\u001b[0m\u001b[1;32m      3\u001b[0m \u001b[0mdot_data\u001b[0m \u001b[0;34m=\u001b[0m \u001b[0mStringIO\u001b[0m\u001b[0;34m(\u001b[0m\u001b[0;34m)\u001b[0m\u001b[0;34m\u001b[0m\u001b[0m\n\u001b[1;32m      4\u001b[0m \u001b[0mtree\u001b[0m\u001b[0;34m.\u001b[0m\u001b[0mexport_graphviz\u001b[0m\u001b[0;34m(\u001b[0m\u001b[0mclf_opt\u001b[0m\u001b[0;34m,\u001b[0m \u001b[0mout_file\u001b[0m\u001b[0;34m=\u001b[0m\u001b[0mdot_data\u001b[0m\u001b[0;34m,\u001b[0m \u001b[0mfilled\u001b[0m\u001b[0;34m=\u001b[0m\u001b[0;32mTrue\u001b[0m\u001b[0;34m,\u001b[0m \u001b[0mrounded\u001b[0m\u001b[0;34m=\u001b[0m\u001b[0;32mTrue\u001b[0m\u001b[0;34m,\u001b[0m \u001b[0mspecial_characters\u001b[0m\u001b[0;34m=\u001b[0m\u001b[0;32mTrue\u001b[0m\u001b[0;34m)\u001b[0m\u001b[0;34m\u001b[0m\u001b[0m\n\u001b[1;32m      5\u001b[0m \u001b[0mgraph\u001b[0m \u001b[0;34m=\u001b[0m \u001b[0mpydotplus\u001b[0m\u001b[0;34m.\u001b[0m\u001b[0mgraph_from_dot_data\u001b[0m\u001b[0;34m(\u001b[0m\u001b[0mdot_data\u001b[0m\u001b[0;34m.\u001b[0m\u001b[0mgetvalue\u001b[0m\u001b[0;34m(\u001b[0m\u001b[0;34m)\u001b[0m\u001b[0;34m)\u001b[0m\u001b[0;34m\u001b[0m\u001b[0m\n",
      "\u001b[0;31mNameError\u001b[0m: name 'X_train_val' is not defined"
     ]
    }
   ],
   "source": [
    "clf_opt = tree.DecisionTreeClassifier(criterion = 'entropy', max_depth = 25, min_samples_leaf = 2, min_samples_split = 6)\n",
    "clf_opt.fit(X_train_val, Y_train_val)\n",
    "dot_data = StringIO()\n",
    "tree.export_graphviz(clf_opt, out_file=dot_data, filled=True, rounded=True, special_characters=True)\n",
    "graph = pydotplus.graph_from_dot_data(dot_data.getvalue())  \n",
    "Image(graph.create_png())"
   ]
  },
  {
   "cell_type": "code",
   "execution_count": 20,
   "metadata": {},
   "outputs": [
    {
     "name": "stdout",
     "output_type": "stream",
     "text": [
      "{'criterion': 'entropy', 'max_depth': 40, 'min_samples_leaf': 2, 'min_samples_split': 6}\n",
      "0.15789473684210525\n",
      "dot: graph is too large for cairo-renderer bitmaps. Scaling by 0.389138 to fit\n",
      "\n"
     ]
    }
   ],
   "source": [
    "X_train_val, Y_train_val, X_test, Y_test = import_data('abalone.data', 0.2, \",\", True, True)\n",
    "\n",
    "parameters = {'criterion' : ('gini', 'entropy'), 'max_depth' : [25, 30, 35, 40, 45, 50, 55, 60], 'min_samples_leaf' : [2, 4, 6, 8, 10, 12, 14, 16], 'min_samples_split' : [6, 8, 10, 12, 14, 16, 32, 64]}\n",
    "\n",
    "#clf = GridSearchCV(tree.DecisionTreeClassifier(), parameters, cv = 5, n_jobs = 4)\n",
    "#clf.fit(X_train_val, Y_train_val)\n",
    "#best_params = clf.best_params_\n",
    "#print(clf.best_params_)\n",
    "#print(clf.score(X_test, Y_test))\n",
    "create_tree(parameters, X_train_val, Y_train_val, X_test, Y_test)"
   ]
  },
  {
   "cell_type": "code",
   "execution_count": 7,
   "metadata": {},
   "outputs": [
    {
     "data": {
      "text/plain": [
       "({'criterion': 'entropy',\n",
       "  'max_depth': 60,\n",
       "  'min_samples_leaf': 2,\n",
       "  'min_samples_split': 64},\n",
       " 0.493)"
      ]
     },
     "execution_count": 7,
     "metadata": {},
     "output_type": "execute_result"
    }
   ],
   "source": [
    "parameters = {'criterion' : ('gini', 'entropy'), 'max_depth' : [25, 30, 35, 40, 45, 50, 55, 60], 'min_samples_leaf' : [2, 4, 6, 8, 10, 12, 14, 16], 'min_samples_split' : [6, 8, 10, 12, 14, 16, 32, 64]}\n",
    "X_train_val, Y_train_val, X_test, Y_test = import_data('extra_short_SUSY.csv', 0.2, \",\", False, False)\n",
    "create_tree(parameters, X_train_val, Y_train_val, X_test, Y_test)"
   ]
  },
  {
   "cell_type": "code",
   "execution_count": null,
   "metadata": {},
   "outputs": [],
   "source": [
    "clf_opt = tree.DecisionTreeClassifier(criterion= 'entropy', max_depth= 40, min_samples_leaf= 2, min_samples_split= 6)\n",
    "clf_opt.fit(X_train_val, Y_train_val)\n",
    "dot_data = StringIO()\n",
    "tree.export_graphviz(clf_opt, out_file=dot_data, filled=True, rounded=True, special_characters=True)\n",
    "graph = pydotplus.graph_from_dot_data(dot_data.getvalue())  \n",
    "Image(graph.create_png())"
   ]
  },
  {
   "cell_type": "code",
   "execution_count": 29,
   "metadata": {},
   "outputs": [
    {
     "data": {
      "text/plain": [
       "0.1590909090909091"
      ]
     },
     "execution_count": 29,
     "metadata": {},
     "output_type": "execute_result"
    }
   ],
   "source": [
    "parameters = {'criterion' : ('gini', 'entropy'), 'max_depth' : [25, 30, 35, 40, 45, 50, 55, 60], 'min_samples_leaf' : [2, 4, 6, 8, 10, 12, 14, 16], 'min_samples_split' : [6, 8, 10, 12, 14, 16, 32, 64]}\n",
    "average_three(parameters, 'abalone.data', 0.2, \",\", True, True)"
   ]
  },
  {
   "cell_type": "code",
   "execution_count": 30,
   "metadata": {},
   "outputs": [
    {
     "data": {
      "text/plain": [
       "0.155970625798212"
      ]
     },
     "execution_count": 30,
     "metadata": {},
     "output_type": "execute_result"
    }
   ],
   "source": [
    "parameters = {'criterion' : ('gini', 'entropy'), 'max_depth' : [25, 30, 35, 40, 45, 50, 55, 60], 'min_samples_leaf' : [2, 4, 6, 8, 10, 12, 14, 16], 'min_samples_split' : [6, 8, 10, 12, 14, 16, 32, 64]}\n",
    "average_three(parameters, 'abalone.data', 0.5, \",\", True, True)"
   ]
  },
  {
   "cell_type": "code",
   "execution_count": 31,
   "metadata": {},
   "outputs": [
    {
     "data": {
      "text/plain": [
       "0.14736106954005787"
      ]
     },
     "execution_count": 31,
     "metadata": {},
     "output_type": "execute_result"
    }
   ],
   "source": [
    "parameters = {'criterion' : ('gini', 'entropy'), 'max_depth' : [25, 30, 35, 40, 45, 50, 55, 60], 'min_samples_leaf' : [2, 4, 6, 8, 10, 12, 14, 16], 'min_samples_split' : [6, 8, 10, 12, 14, 16, 32, 64]}\n",
    "average_three(parameters, 'abalone.data', 0.8, \",\", True, True)"
   ]
  },
  {
   "cell_type": "code",
   "execution_count": 6,
   "metadata": {},
   "outputs": [
    {
     "data": {
      "text/plain": [
       "0.509"
      ]
     },
     "execution_count": 6,
     "metadata": {},
     "output_type": "execute_result"
    }
   ],
   "source": [
    "parameters = {'criterion' : ('gini', 'entropy'), 'max_depth' : [25, 30, 35, 40, 45, 50, 55, 60], 'min_samples_leaf' : [2, 4, 6, 8, 10, 12, 14, 16], 'min_samples_split' : [6, 8, 10, 12, 14, 16, 32, 64]}\n",
    "average_three(parameters, 'extra_short_SUSY.csv', 0.2, \",\", False, False)"
   ]
  },
  {
   "cell_type": "code",
   "execution_count": 8,
   "metadata": {},
   "outputs": [
    {
     "data": {
      "text/plain": [
       "0.523"
      ]
     },
     "execution_count": 8,
     "metadata": {},
     "output_type": "execute_result"
    }
   ],
   "source": [
    "parameters = {'criterion' : ('gini', 'entropy'), 'max_depth' : [25, 30, 35, 40, 45, 50, 55, 60], 'min_samples_leaf' : [2, 4, 6, 8, 10, 12, 14, 16], 'min_samples_split' : [6, 8, 10, 12, 14, 16, 32, 64]}\n",
    "average_three(parameters, 'short_SUSY.csv', 0.5, \",\", False, False)"
   ]
  },
  {
   "cell_type": "code",
   "execution_count": 9,
   "metadata": {},
   "outputs": [
    {
     "data": {
      "text/plain": [
       "0.5154624999999999"
      ]
     },
     "execution_count": 9,
     "metadata": {},
     "output_type": "execute_result"
    }
   ],
   "source": [
    "parameters = {'criterion' : ('gini', 'entropy'), 'max_depth' : [25, 30, 35, 40, 45, 50, 55, 60], 'min_samples_leaf' : [2, 4, 6, 8, 10, 12, 14, 16], 'min_samples_split' : [6, 8, 10, 12, 14, 16, 32, 64]}\n",
    "average_three(parameters, 'short_SUSY.csv', 0.8, \",\", False, False)"
   ]
  }
 ],
 "metadata": {
  "kernelspec": {
   "display_name": "Python 3",
   "language": "python",
   "name": "python3"
  },
  "language_info": {
   "codemirror_mode": {
    "name": "ipython",
    "version": 3
   },
   "file_extension": ".py",
   "mimetype": "text/x-python",
   "name": "python",
   "nbconvert_exporter": "python",
   "pygments_lexer": "ipython3",
   "version": "3.6.4"
  }
 },
 "nbformat": 4,
 "nbformat_minor": 2
}
